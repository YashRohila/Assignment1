{
  "nbformat": 4,
  "nbformat_minor": 0,
  "metadata": {
    "colab": {
      "provenance": []
    },
    "kernelspec": {
      "name": "python3",
      "display_name": "Python 3"
    },
    "language_info": {
      "name": "python"
    }
  },
  "cells": [
    {
      "cell_type": "markdown",
      "source": [
        "1. What is Object-Oriented Programming (OOP)\n",
        "- Object Oriented programming is structured programming in which we use object and classes to define methods. It mainly focus on principle like Encapsulation, Inheritance, Abstraction, Polymorphism to create modular and scalable program.\n",
        "\n",
        "2. What is a class in OOP?\n",
        "- class in OOPs is like a blue print or template for creating objects. It actually defines the property and methods that object will have.\n",
        "\n",
        "3. What is an object in OOPs?\n",
        "- An object is an instance of a class which represents real world entities with specific values and actions.\n",
        "\n",
        "4. What is the difference between abstraction and encapsulation1\n",
        "- Abstraction shows only important information but hides the implementation details.It mainly focus on what object do. For example: It will just show that car is running on road but not how engine and other parts are working\n",
        "- Encapsulation is binding of data into single unit.It mainly focuses on how data is being protected\n",
        "\n",
        "5. What are dunder methods in Python?\n",
        "- Dumbers are special methods in Python which are surrounded by double underscores (__). They are inbuilt operations such as for object creation,addition, representation etc.\n",
        "- Examples are __init__ , __str__ , __add__\n",
        "\n",
        "6.  Explain the concept of inheritance in OOPs\n",
        "- Inheritance is a mechanism where one class (child class) derive properties from other class(parent class). It is useful in code reuse and establish a hierichal relationship between classes.\n",
        "- There are different types of inheritance such as: Single level inheritance, Multiple inheritance and Multilevel inheritance.\n",
        "\n",
        "7. What is polymorphism in OOPs?\n",
        "- Polymorphism is a concept that allows a method to behave differently according to the object how it is working. It basically work differently with different arguments.\n",
        "- There are basically two types of polymorphisme such as :- Method overloading and Method overiding\n",
        "\n",
        "8.  How is encapsulation achieved in Python?\n",
        "- Encapsulation can be achieved in Python by binding data into single unit and restricitng access to some of the object components.\n",
        "- This restriction can be achieved by using different modifiers such as public, private and protected.\n",
        "- Best example for this are different methods which are binded together under a same class\n",
        "\n",
        "9. What is a constructor in Python?\n",
        "- A constructor is a special method in Python called (__init__) which is called automatically when an object is created. It intializes the objects attributes\n",
        "\n",
        "10. What are class and static methods in Python?\n",
        "-  A class method is a method which is bounded to the class rather than instances. It takes the class as first argument(cls). It is defined using @classmethod\n",
        "- A stactic method is a method that does not take (self or cls) as argument. It behaves like a regular method which is connected to namespace of the class. It can not be changed. It is defined using the @staticmethod decorator.\n",
        "\n",
        "11.  What is method overloading in Python?\n",
        "- Method overloading is define the different methods with same name but with different arguments. Python does not support method overloading like different languages such as Java,C++ but we can achieve this by using default arguments and variable string argument lists(*args, **kwargs).\n",
        "\n",
        "12.  What is method overriding in OOPs?\n",
        "- Method overiding in OOPs is when a subclass provides its method that is alreadu defined in parent class which have same name , parameter and return type but it provides a different behaviour. It supports runtime polymorphism where method is determined at run time.\n",
        "\n",
        "13. What is a property decorator in Python?\n",
        "- Property decorator is used to access a method like an attribute rather than a method such as getter, setter and deleter.\n",
        "- Getter is used to access an attribute, setter defines how to modify an attribute, deleter defines how to delete an attribute\n",
        "\n",
        "14. Why is polymorphism important in OOP?\n",
        "- Polymorphism is important in OOPs because it allows different classes to define methods with the same name but different behaviours according to the object which enables code reusability, flexibility and ability to handle different objects through same interference.\n",
        "\n",
        "15. What is an abstract class in Python?\n",
        "- An abstract class is a class which can not be instantiated directly. It is used as a blueprint for other class and have one more abstract method that must be implemented by subclasses.\n",
        "\n",
        "16. What are the advantages of OOP?\n",
        "- Advantages of OOPS are as follows:\n",
        "- Reusability\n",
        "- Modularity\n",
        "- Abstraction\n",
        "- Encapsulation\n",
        "- Flexibilty and Extensibility\n",
        "- Improved collabration\n",
        "- Maintainability\n",
        "\n",
        "17.  What is the difference between a class variable and an instance variable?\n",
        "- Class variable can be used by all instances. It is stored at class level. It is accessed using the class name or instance. If we make any changes it affects all the instances\n",
        "- Instance variable are specific to each instance of a class. They are stored within their object. They can be accessed only through their instance. It is unique to every object.\n",
        "\n",
        "18. What is multiple inheritance in Python\n",
        "- Multiple inheritance is a feature where class can inherit attributes and methods from more than one parent class which allows child class to access the properties and behaviour of multiple parent class.\n",
        "\n",
        "19.  Explain the purpose of ‘’__str__’ and ‘__repr__’ ‘ methods in Python?\n",
        "- The purpose of __str__ and __repr__ methods are special methods in Python known as dunder methods which are used to define string representation of objects.\n",
        "- __str__:-> It defines a user friendly string representation of object. It is called when we use print() or str() on the object.\n",
        "- __repr__:-> It is used to create a detailed developer friendly string for an object.\n",
        "\n",
        "20. What is the significance of the ‘super()’ function in Python?\n",
        "- The super function in Python is used to call a method from a parent to child class.It is particularly useful when we want to to access or extend the functionality of a parents class method.\n",
        "\n",
        "21. What is the significance of the __del__ method in Python?\n",
        "- The __del__ method is a special method called destructor. It is invoked automatically when an object is about to be destroyed. It allows to clean up actions for object such as releasing sources or closing connections.\n",
        "\n",
        "22.  What is the difference between @staticmethod and @classmethod in Python?\n",
        "- @staticmethod:-> It doesn't take first argument as cls or self . It works as regular function but can be accesed through the class. It is used when method does not need access to class or instance variables.It can not be modified.It always remains same.\n",
        "- @classmethod:-> It takes class method (cls) as its first argument. It can be modify or can access class level variables and methods.It is used when we perform operations on class rather than instances.\n",
        "\n",
        "23.  How does polymorphism work in Python with inheritance?\n",
        "- Polymorphism allows objects of different classes to be treated as object of a common superclass. In Python polymorphism work through method overriding and dynamic typing which enables a single interferance to support different underlying forms.\n",
        "\n",
        "24. What is method chaining in Python OOP?\n",
        "- Method chaining is a programming technique in Python OOP where multiple methods are called on the same object in single statement. This can be achieved when each method returns the object itself (self) after performing its operation after which it allow next method in the function to be called.\n",
        "- Method chaining is basically used frameworks and libraries like Pandas,SQLAlchemy or Django Queryset where we perform sequential  operation on data entries\n",
        "\n",
        "25. What is the purpose of the __call__ method in Python\n",
        "- It allows an object to be called like a function. When we define it in a class,instances of that class become callable which means that we can use parantheses () to call the object as if it were a function.\n",
        "\n",
        "\n"
      ],
      "metadata": {
        "id": "Z8cCBVCEPu6f"
      }
    },
    {
      "cell_type": "code",
      "source": [
        "#1. Create a parent class Animal with a method speak() that prints a generic message. Create a child class Dog  that overrides the speak() method to print \"Bark!\"\n",
        "class Animal:\n",
        "    def speak(self):\n",
        "        print(\"sound\")\n",
        "class Dog(Animal):\n",
        "    def speak(self):\n",
        "        print(\"bark\")\n",
        "d=Dog()\n",
        "d.speak()"
      ],
      "metadata": {
        "colab": {
          "base_uri": "https://localhost:8080/"
        },
        "id": "fdRCj7kXCr4i",
        "outputId": "1ba26a04-4f76-469c-a6d9-eaf82c9c0c55"
      },
      "execution_count": null,
      "outputs": [
        {
          "output_type": "stream",
          "name": "stdout",
          "text": [
            "bark\n"
          ]
        }
      ]
    },
    {
      "cell_type": "code",
      "source": [
        "#2. Write a program to create an abstract class Shape with a method area(). Derive classes Circle and Rectangle from it and implement the area() method in both\n",
        "from abc import ABC, abstractmethod\n",
        "class Shape(ABC):\n",
        "    @abstractmethod\n",
        "    def area(self):\n",
        "        pass\n",
        "class Circle(Shape):\n",
        "    def __init__(self,radius):\n",
        "        self.radius=radius\n",
        "    def area(self):\n",
        "        return 3.14*self.radius**2\n",
        "class Rectangle(Shape):\n",
        "    def __init__(self,length,breadth):\n",
        "        self.length=length\n",
        "        self.breadth=breadth\n",
        "    def area(self):\n",
        "        return self.length*self.breadth\n",
        "\n",
        "c=Circle(5)\n",
        "r=Rectangle(3,4)\n",
        "c.area()\n",
        "r.area()"
      ],
      "metadata": {
        "colab": {
          "base_uri": "https://localhost:8080/"
        },
        "id": "QTLoSfn1DzsJ",
        "outputId": "f340d7d6-9850-4b6d-97bc-11cf42ea6445"
      },
      "execution_count": null,
      "outputs": [
        {
          "output_type": "execute_result",
          "data": {
            "text/plain": [
              "12"
            ]
          },
          "metadata": {},
          "execution_count": 3
        }
      ]
    },
    {
      "cell_type": "code",
      "source": [
        "#3 Implement a multi-level inheritance scenario where a class Vehicle has an attribute type. Derive a class Car and further derive a class ElectricCar that adds a battery attribute\n",
        "class Vehicle:\n",
        "    def sound(self):\n",
        "        print(\"p...\")\n",
        "class Car(Vehicle):\n",
        "    def color(self):\n",
        "        print(\"red\")\n",
        "class Electriccar(Car):\n",
        "    def battery(self):\n",
        "        print(\"ecofriendly\")\n",
        "e=Electriccar()\n",
        "e.sound()\n",
        "e.color()\n",
        "e.battery()"
      ],
      "metadata": {
        "colab": {
          "base_uri": "https://localhost:8080/"
        },
        "id": "87att36QGucp",
        "outputId": "552eec09-e5a8-43ab-ed7f-6100d9bc706a"
      },
      "execution_count": null,
      "outputs": [
        {
          "output_type": "stream",
          "name": "stdout",
          "text": [
            "p...\n",
            "red\n",
            "ecofriendly\n"
          ]
        }
      ]
    },
    {
      "cell_type": "code",
      "source": [
        "#4  Implement a multi-level inheritance scenario where a class Vehicle has an attribute type. Derive a class Car and further derive a class ElectricCar that adds a battery attribute.\n",
        "class Vehicle:\n",
        "    def sound(self):\n",
        "        print(\"p...\")\n",
        "class Car(Vehicle):\n",
        "    def color(self):\n",
        "        print(\"red\")\n",
        "class Electriccar(Car):\n",
        "    def battery(self):\n",
        "        print(\"ecofriendly\")\n",
        "e=Electriccar()\n",
        "e.sound()\n",
        "e.color()\n",
        "e.battery()"
      ],
      "metadata": {
        "colab": {
          "base_uri": "https://localhost:8080/"
        },
        "id": "3oABBitwI380",
        "outputId": "89b01e64-b49b-4139-87d3-796f2576b058"
      },
      "execution_count": null,
      "outputs": [
        {
          "output_type": "stream",
          "name": "stdout",
          "text": [
            "p...\n",
            "red\n",
            "ecofriendly\n"
          ]
        }
      ]
    },
    {
      "cell_type": "code",
      "source": [
        "#5  Write a program to demonstrate encapsulation by creating a class BankAccount with private attributes balance and methods to deposit, withdraw, and check balance.\n",
        "class Bank:\n",
        "    def __init__(self,amount=0):\n",
        "        self.__amount=amount\n",
        "    def deposit(self,money):\n",
        "        self.__amount=self.__amount+money\n",
        "    def withdraw(self,money):\n",
        "        if money<=self.__amount:\n",
        "            self.__amount=self.__amount-money\n",
        "        else:\n",
        "            return false\n",
        "    def currentbalance(self):\n",
        "        return self.__amount\n",
        "\n",
        "b=Bank(1000)\n",
        "b.deposit(200)\n",
        "b.withdraw(110)\n",
        "b.currentbalance()"
      ],
      "metadata": {
        "colab": {
          "base_uri": "https://localhost:8080/"
        },
        "id": "I3OvDN76JLi_",
        "outputId": "1c5e3406-4dc9-409e-ffb0-6d784f27c9d8"
      },
      "execution_count": null,
      "outputs": [
        {
          "output_type": "execute_result",
          "data": {
            "text/plain": [
              "1090"
            ]
          },
          "metadata": {},
          "execution_count": 6
        }
      ]
    },
    {
      "cell_type": "code",
      "source": [
        "#6 Demonstrate runtime polymorphism using a method play() in a base class Instrument. Derive classes Guitar and Piano that implement their own version of play().\n",
        "class Instrument:\n",
        "    def play(self):\n",
        "        print(\"playing instrument\")\n",
        "\n",
        "class Guitar(Instrument):\n",
        "    def play(self):\n",
        "        print(\"playing guitar\")\n",
        "\n",
        "class Piano(Instrument):\n",
        "    def play(self):\n",
        "        print(\"playing piano\")\n",
        "\n",
        "def performance_play(instrument):\n",
        "    instrument.play()\n",
        "\n",
        "i=Instrument()\n",
        "g=Guitar()\n",
        "p=Piano()\n",
        "performance_play(i)\n",
        "performance_play(g)\n",
        "performance_play(p)"
      ],
      "metadata": {
        "colab": {
          "base_uri": "https://localhost:8080/"
        },
        "id": "3hExWSWONfEK",
        "outputId": "13d2c1ed-8085-4eeb-ab85-72959d70c133"
      },
      "execution_count": null,
      "outputs": [
        {
          "output_type": "stream",
          "name": "stdout",
          "text": [
            "playing instrument\n",
            "playing guitar\n",
            "playing piano\n"
          ]
        }
      ]
    },
    {
      "cell_type": "code",
      "source": [
        "#7 Create a class MathOperations with a class method add_numbers() to add two numbers and a static method subtract_numbers() to subtract two numbers\n",
        "class Mathoperations:\n",
        "    @classmethod\n",
        "    def add_numbers(cls,num1,num2):\n",
        "        return num1+num2\n",
        "    @staticmethod\n",
        "    def subtract_numbers(num1,num2):\n",
        "        return num1-num2\n",
        "\n",
        "z=Mathoperations.add_numbers(1,2)\n",
        "y=Mathoperations.subtract_numbers(10,5)\n",
        "print(z)\n",
        "print(y)"
      ],
      "metadata": {
        "colab": {
          "base_uri": "https://localhost:8080/"
        },
        "id": "qSY2Aym3SD0c",
        "outputId": "71d841c5-2907-454e-ec18-b8cd5b2fa380"
      },
      "execution_count": null,
      "outputs": [
        {
          "output_type": "stream",
          "name": "stdout",
          "text": [
            "3\n",
            "5\n"
          ]
        }
      ]
    },
    {
      "cell_type": "code",
      "source": [
        "#8 Implement a class Person with a class method to count the total number of persons created.\n",
        "class Person:\n",
        "    total_person = 0\n",
        "    def __init__(self, name):\n",
        "        self.name = name\n",
        "        Person.total_person += 1\n",
        "    @classmethod\n",
        "    def get_totalperson(cls):\n",
        "        return cls.total_person\n",
        "obj1 = Person(\"Yash\")\n",
        "obj2 = Person(\"Ansh\")\n",
        "obj3 = Person(\"Vansh\")\n",
        "z = Person.get_totalperson()\n",
        "print(f\"Total Persons Created: {z}\")"
      ],
      "metadata": {
        "colab": {
          "base_uri": "https://localhost:8080/"
        },
        "id": "Zu07K7KNTzSG",
        "outputId": "4349168d-b0d0-4781-93dc-e35d36428c4e"
      },
      "execution_count": null,
      "outputs": [
        {
          "output_type": "stream",
          "name": "stdout",
          "text": [
            "Total Persons Created: 3\n"
          ]
        }
      ]
    },
    {
      "cell_type": "code",
      "source": [
        "#9 Write a class Fraction with attributes numerator and denominator. Override the str method to display the fraction as \"numerator/denominator\".\n",
        "class Fraction:\n",
        "    def __init__(self, numerator, denominator):\n",
        "        self.numerator = numerator\n",
        "        self.denominator = denominator\n",
        "\n",
        "    def __str__(self):\n",
        "        return f\"{self.numerator}/{self.denominator}\"\n",
        "fraction1 = Fraction(3, 4)\n",
        "fraction2 = Fraction(5, 6)\n",
        "print(fraction1)\n",
        "print(fraction2)"
      ],
      "metadata": {
        "colab": {
          "base_uri": "https://localhost:8080/"
        },
        "id": "DlsCPYfxZzRO",
        "outputId": "d9de0c90-4df4-4aa7-8101-73f050dd32a2"
      },
      "execution_count": null,
      "outputs": [
        {
          "output_type": "stream",
          "name": "stdout",
          "text": [
            "3/4\n",
            "5/6\n"
          ]
        }
      ]
    },
    {
      "cell_type": "code",
      "source": [
        "#10 Demonstrate operator overloading by creating a class Vector and overriding the add method to add two\n",
        "vectors.\n",
        "class Vector:\n",
        "    def __init__(self, x, y):\n",
        "        self.x = x\n",
        "        self.y = y\n",
        "    def __add__(self, other):\n",
        "        return Vector(self.x + other.x, self.y + other.y)\n",
        "\n",
        "    def __str__(self):\n",
        "        return f\"Vector({self.x}, {self.y})\"\n",
        "vector1 = Vector(2, 3)\n",
        "vector2 = Vector(4, 1)\n",
        "result_vector = vector1 + vector2\n",
        "\n",
        "\n",
        "print(\"Result of vector addition:\", result_vector)"
      ],
      "metadata": {
        "colab": {
          "base_uri": "https://localhost:8080/"
        },
        "id": "68WCB4gFeM4O",
        "outputId": "ffcdc8f1-228f-4d39-9e1f-be42c1890362"
      },
      "execution_count": null,
      "outputs": [
        {
          "output_type": "stream",
          "name": "stdout",
          "text": [
            "Result of vector addition: Vector(6, 4)\n"
          ]
        }
      ]
    },
    {
      "cell_type": "code",
      "source": [
        "#11 Create a class Person with attributes name and age. Add a method greet() that prints \"Hello, my name is {name} and I am {age} years old.\"\n",
        "class Person:\n",
        "    def __init__(self,name,age):\n",
        "        self.name=name\n",
        "        self.age=age\n",
        "    def greet(self):\n",
        "        print (f\"Hello, my name is {self.name} and I am {self.age} years old.\")\n",
        "p=Person(\"yash\",\"24\")\n",
        "p.greet()"
      ],
      "metadata": {
        "colab": {
          "base_uri": "https://localhost:8080/"
        },
        "id": "p2Y4N5bZfAvu",
        "outputId": "d3acd450-9152-4902-a6f0-df5c8bd60dff"
      },
      "execution_count": null,
      "outputs": [
        {
          "output_type": "stream",
          "name": "stdout",
          "text": [
            "Hello, my name is yash and I am 24 years old.\n"
          ]
        }
      ]
    },
    {
      "cell_type": "code",
      "source": [
        "#12  Implement a class Student with attributes name and grades. Create a method average_grade() to compute the average of the grades.\n",
        "class Person:\n",
        "    def __init__(self,name,grades):\n",
        "        self.name=name\n",
        "        self.grades=grades\n",
        "    def average_grades(self):\n",
        "        return sum(self.grades)/len(self.grades)\n",
        "p=Person(\"yash\",[10,10,10,20,30])\n",
        "p.average_grades()\n"
      ],
      "metadata": {
        "colab": {
          "base_uri": "https://localhost:8080/"
        },
        "id": "y51tZiVFkz9G",
        "outputId": "0434a07f-7d51-4882-ef0a-acfde559d0f9"
      },
      "execution_count": null,
      "outputs": [
        {
          "output_type": "execute_result",
          "data": {
            "text/plain": [
              "16.0"
            ]
          },
          "metadata": {},
          "execution_count": 18
        }
      ]
    },
    {
      "cell_type": "code",
      "source": [
        "#13 Create a class Rectangle with methods set_dimensions() to set the dimensions and area() to calculate the area.\n",
        "class Rectangle:\n",
        "    def __init_(self):\n",
        "        self.length=0\n",
        "        self.breadth=0\n",
        "    def set_dimension(self,length,breadth):\n",
        "        self.length=length\n",
        "        self.breadth=breadth\n",
        "    def area(self):\n",
        "        return self.length*self.breadth\n",
        "r=Rectangle()\n",
        "r.set_dimension(10,8)\n",
        "r.area()"
      ],
      "metadata": {
        "colab": {
          "base_uri": "https://localhost:8080/"
        },
        "id": "uHBL_W1nopmv",
        "outputId": "7cd85866-a160-4549-c890-8a8f0f7bf587"
      },
      "execution_count": null,
      "outputs": [
        {
          "output_type": "execute_result",
          "data": {
            "text/plain": [
              "80"
            ]
          },
          "metadata": {},
          "execution_count": 19
        }
      ]
    },
    {
      "cell_type": "code",
      "source": [
        "#14 Create a class Employee with a method calculate_salary() that computes the salary based on hours worked and hourly rate. Create a derived class Manager that adds a bonus to the salary.\n",
        "class Employee:\n",
        "    def __init__(self,hours,hourly_rate):\n",
        "        self.hours=hours\n",
        "        self.hourly_rate=hourly_rate\n",
        "    def calc_salary(self):\n",
        "        self.z=self.hours*self.hourly_rate\n",
        "        return self.z\n",
        "class Manager(Employee):\n",
        "    def __init__(self,hours,hourly_rate,bonus):\n",
        "        super().__init__(hours,hourly_rate)\n",
        "        self.bonus=bonus\n",
        "    def final_Salary(self):\n",
        "        return self.calc_salary()+self.bonus\n",
        "m=Manager(8,16.5,100)\n",
        "m.final_Salary()"
      ],
      "metadata": {
        "colab": {
          "base_uri": "https://localhost:8080/"
        },
        "id": "sBS_C-CsqjNe",
        "outputId": "9cc95fa1-f33c-4abc-fdac-b3d17316c251"
      },
      "execution_count": null,
      "outputs": [
        {
          "output_type": "execute_result",
          "data": {
            "text/plain": [
              "232.0"
            ]
          },
          "metadata": {},
          "execution_count": 20
        }
      ]
    },
    {
      "cell_type": "code",
      "source": [
        "#15 Create a class Product with attributes name, price, and quantity. Implement a method total_price() that calculates the total price of the product\n",
        "class Product:\n",
        "    def __init__(self,name,price,quantity):\n",
        "        self.name=name\n",
        "        self.price=price\n",
        "        self.quantity=quantity\n",
        "    def totalprice(self):\n",
        "        return self.price*self.quantity\n",
        "p=Product(\"yash\",10,5)\n",
        "p.totalprice()"
      ],
      "metadata": {
        "id": "IkJGxZjGxK39",
        "colab": {
          "base_uri": "https://localhost:8080/"
        },
        "outputId": "dc65fa74-2238-422b-f257-c31e75fa632d"
      },
      "execution_count": 1,
      "outputs": [
        {
          "output_type": "execute_result",
          "data": {
            "text/plain": [
              "50"
            ]
          },
          "metadata": {},
          "execution_count": 1
        }
      ]
    },
    {
      "cell_type": "code",
      "source": [
        "#16 Create a class Animal with an abstract method sound(). Create two derived classes Cow and Sheep that implement the sound() method.\n",
        "from abc import ABC,abstractmethod\n",
        "class Animal(ABC):\n",
        "    @abstractmethod\n",
        "    def sound(self):\n",
        "        pass\n",
        "class Cow(Animal):\n",
        "    def sound(self):\n",
        "        print(\"cow sound\")\n",
        "class Sheep(Animal):\n",
        "    def sound(self):\n",
        "        print(\"sheep sound\")\n",
        "cow=Cow()\n",
        "cow.sound()"
      ],
      "metadata": {
        "colab": {
          "base_uri": "https://localhost:8080/"
        },
        "id": "wjYfjS1JZZNh",
        "outputId": "089b467d-f752-4e92-9183-26884fc25dd9"
      },
      "execution_count": 2,
      "outputs": [
        {
          "output_type": "stream",
          "name": "stdout",
          "text": [
            "cow sound\n"
          ]
        }
      ]
    },
    {
      "cell_type": "code",
      "source": [
        "#17 Create a class Book with attributes title, author, and year_published. Add a method get_book_info() that returns a formatted string with the book's details.\n",
        "class Book:\n",
        "    def __init__(self,title,author,year_published):\n",
        "        self.title=title\n",
        "        self.author=author\n",
        "        self.year_published=year_published\n",
        "    def get_book_info(self):\n",
        "        return f\"'{self.title}' {self.author}{self.year_published}\"\n",
        "b=Book(\"Automatic habits\",\"James clear\",2010)\n",
        "b.get_book_info()"
      ],
      "metadata": {
        "colab": {
          "base_uri": "https://localhost:8080/",
          "height": 35
        },
        "id": "Dj8s7YiAbn9P",
        "outputId": "5a03636c-c1e0-422f-93a4-62514cf7ab8f"
      },
      "execution_count": 3,
      "outputs": [
        {
          "output_type": "execute_result",
          "data": {
            "text/plain": [
              "\"'Automatic habits' James clear2010\""
            ],
            "application/vnd.google.colaboratory.intrinsic+json": {
              "type": "string"
            }
          },
          "metadata": {},
          "execution_count": 3
        }
      ]
    },
    {
      "cell_type": "code",
      "source": [
        "#18  Create a class House with attributes address and price. Create a derived class Mansion that adds an attribute number_of_rooms.\n",
        "class House:\n",
        "    def __init__(self,address,price):\n",
        "        self.address=address\n",
        "        self.price=price\n",
        "class Mansion(House):\n",
        "    def __init__(self,address,price,no_of_rooms):\n",
        "        super().__init__(address,price)\n",
        "        self.no_of_rooms=no_of_rooms\n",
        "m=Mansion(\"42 durham st\",10000000,8)\n",
        "m.no_of_rooms"
      ],
      "metadata": {
        "colab": {
          "base_uri": "https://localhost:8080/"
        },
        "id": "VHusLqYaelQI",
        "outputId": "3cfc4f60-3967-44d4-fbb3-50d919dc4b9a"
      },
      "execution_count": 4,
      "outputs": [
        {
          "output_type": "execute_result",
          "data": {
            "text/plain": [
              "8"
            ]
          },
          "metadata": {},
          "execution_count": 4
        }
      ]
    }
  ]
}