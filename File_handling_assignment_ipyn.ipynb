{
  "nbformat": 4,
  "nbformat_minor": 0,
  "metadata": {
    "colab": {
      "provenance": []
    },
    "kernelspec": {
      "name": "python3",
      "display_name": "Python 3"
    },
    "language_info": {
      "name": "python"
    }
  },
  "cells": [
    {
      "cell_type": "markdown",
      "source": [
        "1. What is the difference between interpreted and compiled languages?\n",
        "- Compilation language:-> In this code is translated to a machine code by a compiler before it get executed. Example are C,C++\n",
        "- Interpreted languages:-> In this code is executed line by line by Interpreter without being converted to machine code. Example are Python and Java\n",
        "\n",
        "2. What is exception handling in Python?\n",
        "- Exceptional handing in python is a mechanism to handle the real time error by using keyword try, except, else and finally to prevent the code from crash.\n",
        "\n",
        "3. What is the purpose of the finally block in exception handling?\n",
        "- It ensures that a specific section of code should be executed regardless of whether an exception occurs or not.\n",
        "\n",
        "4. What is logging in Python?\n",
        "- Logging in Python is a way to track the events occurs during the execution of a program.It helps in recording the messages,errors or system information for debugging and monitoring processes.\n",
        "\n",
        "5. What is the significance of the __del__ method in Python?\n",
        "- It is a special method known as destructor. It is called when we have to destroy a object.\n",
        "\n",
        "6. What is the difference between import and from ... import in Python?\n",
        "- Import:-> It imports the entire module. For accessing it we use module_name.component. It loads the entire module.\n",
        "- from ...import:-> It imports only specific componentns like functions, classes and variables. In this we use component directly. It loads only specific parts which saves memory.\n",
        "\n",
        "7.  How can you handle multiple exceptions in Python?\n",
        "- We can handle multiple exception by using single except block with try which includes all kinds of error\n",
        "- Secondaly we use specific error name which we know are occuring by mentioning there name\n",
        "\n",
        "8.  What is the purpose of the with statement when handling files in Python?\n",
        "- The with statement in Python is used for resource management, particularly when handling files. It simplifies the process of opening, working with, and closing files, ensuring proper cleanup even if an error occurs during file operations.\n",
        "\n",
        "9. What is the difference between multithreading and multiprocessing?\n",
        "- Multithreading:-> In this all threads shares the same memory space. Ideal for I/O bound tasks.It is limited by Global Interpretor Lock(GIL). Fault in one thread can affect others\n",
        "- Multiprocessing:-> In this all process have their own memory space. It is ideal for CPU bound tasks. It uses the whole processor of CPU. Fault in one processes does not affect others\n",
        "\n",
        "10. What are the advantages of using logging in a program?\n",
        "- Logging improves debugging, error tracking, persistent event recording, and monitoring, while offering granular control over the output and non-interruptive logging\n",
        "\n",
        "11. What is memory management in Python?\n",
        "- Python handles memory management automatically using a combination of techniques such as reference counting and garbage collection. Reference counting tracks the number of references to an object, and when the count drops to zero, the object is deallocated.\n",
        "\n",
        "12.  What are the basic steps involved in exception handling in Python?\n",
        "- First, you wrap the code that might raise an exception within a try block. Second, you use one or more except blocks immediately after the try block. Third, you can include an else block that executes only if no exceptions were raised in the try block. finally block can be added to execute code regardless of whether an exception was raised or not\n",
        "\n",
        "13. Why is memory management important in Python?\n",
        "- Memory management is important in Python to ensure efficient use of system resources, prevent memory leaks, and optimize program performance. Proper memory management allows Python to allocate memory dynamically for objects, ensuring only necessary resources are used.\n",
        "\n",
        "14. What is the role of try and except in exception handling\n",
        "- The try block contains the code that might raise an exception.The except block specifies how to handle specific exceptions or a general error. This allows the program to manage errors gracefully, avoid crashes, and provide meaningful responses or alternative actions when something goes wrong\n",
        "\n",
        "15.  How does Python's garbage collection system work?\n",
        "- Python's garbage collection system works by automatically reclaiming memory occupied by objects that are no longer accessible or needed. It operates through reference counting and a cyclic garbage collector.Each object in Python has a reference count, which tracks how many references point to it. When the reference count drops to zero , the memory is deallocated immediately.Python’s garbage collector periodically detects such cycles using a generational approach and reclaims their memory.\n",
        "\n",
        "16. What is the purpose of the else block in exception handling\n",
        "- The else block in exception handling is used to define code that should execute only if the try block runs successfully without raising any exceptions. It is placed after all except blocks and helps separate error-handling logic from the code that should run when no exceptions occur\n",
        "\n",
        "17.  What are the common logging levels in Python?\n",
        "- Python provides several common logging levels to categorize and prioritize log messages. These are as follows:-\n",
        "CRITICAL\n",
        "ERROR\n",
        "WARNING\n",
        "INFO\n",
        "DEBUG\n",
        "NOTSET\n",
        "\n",
        "18.  What is the difference between os.fork() and multiprocessing in Python?\n",
        "- os.fork() is a low-level method that creates a child process by duplicating the parent process, but it is only available on Unix-like systems (Linux, macOS).\n",
        "- Multiprocessing module offers a higher-level, cross-platform solution for creating and managing processes, supporting both Unix-based systems and Windows\n",
        "\n",
        "19.  What is the importance of closing a file in Python?\n",
        "- Closing a file in Python is important to free up system resources, ensure data integrity by flushing buffered data to disk, and prevent potential errors from leaving files open. It also improves system performance by releasing file descriptors. Using a with statement is recommended, as it automatically closes the file after the operations are completed, even if exceptions occur.\n",
        "\n",
        "20. What is the difference between file.read() and file.readline() in Python?\n",
        "- file.read():-> Reads the entire file or a specified number of characters into a single string. It is useful for processing all file contents at once\n",
        "- file.readline():-> Reads one line at a time from the file. It is helpful for processing files line by line, especially large files.\n",
        "\n",
        "21. What is the logging module in Python used for?\n",
        "- The logging module in Python is used for tracking events during program execution. It allows developers to record messages at different severity levels such as DEBUG, INFO, WARNING, ERROR, CRITICAL to help debug code, monitor application behavior, and troubleshoot issues.\n",
        "\n",
        "22. What is the os module in Python used for in file handling?\n",
        "- The os module in Python is used for interacting with the operating system and provides functions to perform file handling tasks. It allows you to create, delete, rename, and move files or directories. It also provides methods to check file existence (os.path.exists()), retrieve file metadata (os.stat()), and manipulate file paths (os.path.join())\n",
        "\n",
        "23. What are the challenges associated with memory management in Python?\n",
        "- The challenges which are associated with memory management are as follows:- Memory leaks, Reference cycle, Fragmentation, Limited control and Performance overhead.\n",
        "\n",
        "24. How do you raise an exception manually in Python?\n",
        "- To raise an exception manually in Python, use the raise statement followed by the exception type.\n",
        "- Example: if age < 0:\n",
        "    raise ValueError(\"Age cannot be negative\")\n",
        "\n",
        "25. Why is it important to use multithreading in certain applications?\n",
        "- Multithreading is important in certain applications to improve performance and responsiveness. It enables multiple threads to run concurrently, allowing tasks like I/O operations, user interface updates, or background computations to execute without blocking the main thread. This is especially beneficial in applications requiring simultaneous operations, such as web servers, gaming, or real-time data processing. By utilizing multithreading, applications can efficiently use system resources and provide a smoother user experience."
      ],
      "metadata": {
        "id": "-ttRTmxI91uH"
      }
    },
    {
      "cell_type": "code",
      "source": [
        "#1 How can you open a file for writing in Python and write a string to it\n",
        "with open(\"example.txt\",\"w\") as file:\n",
        "  file.write(\"I am yash\")\n",
        "\n",
        "print(\"file created successfully\")\n"
      ],
      "metadata": {
        "colab": {
          "base_uri": "https://localhost:8080/"
        },
        "id": "tMwGGdmyHfRT",
        "outputId": "9d50a3b3-5c06-4f4a-b83f-a3ff4fa1c423"
      },
      "execution_count": null,
      "outputs": [
        {
          "output_type": "stream",
          "name": "stdout",
          "text": [
            "file created successfully\n"
          ]
        }
      ]
    },
    {
      "cell_type": "code",
      "source": [
        "#2 Write a Python program to read the contents of a file and print each line\n",
        "with open(\"example.txt\",\"r\") as file:\n",
        "  for line in file:\n",
        "    print(line.strip())"
      ],
      "metadata": {
        "colab": {
          "base_uri": "https://localhost:8080/"
        },
        "id": "_rX68UQnIBIr",
        "outputId": "3e83064d-5fea-4721-fd04-6d93cabe2024"
      },
      "execution_count": null,
      "outputs": [
        {
          "output_type": "stream",
          "name": "stdout",
          "text": [
            "I am yash\n"
          ]
        }
      ]
    },
    {
      "cell_type": "code",
      "source": [
        "#3 How would you handle a case where the file doesn't exist while trying to open it for reading\n",
        "try:\n",
        "  with open(\"yash.txt\",\"r\") as file:\n",
        "    content=file.read()\n",
        "    print(content)\n",
        "except FileNotFoundError:\n",
        "  print(\"This file does not exist\")"
      ],
      "metadata": {
        "colab": {
          "base_uri": "https://localhost:8080/"
        },
        "id": "KhsaaCFGIgkX",
        "outputId": "74d81152-d3a7-4de0-9aca-603f4afe6562"
      },
      "execution_count": null,
      "outputs": [
        {
          "output_type": "stream",
          "name": "stdout",
          "text": [
            "This file does not exist\n"
          ]
        }
      ]
    },
    {
      "cell_type": "code",
      "source": [
        "#4  Write a Python script that reads from one file and writes its content to another file\n",
        "with open(\"example.txt\",\"r\") as source_file:\n",
        "  with open(\"yash.txt\",\"w\") as destination_file:\n",
        "    content=source_file.read()\n",
        "    destination_file.write(content)\n",
        "\n"
      ],
      "metadata": {
        "id": "uLQWwNC_JRMm"
      },
      "execution_count": null,
      "outputs": []
    },
    {
      "cell_type": "code",
      "source": [
        "#5  How would you catch and handle division by zero error in Python\n",
        "try:\n",
        "  n=8/0\n",
        "except ZeroDivisionError:\n",
        "  print(\"divison by zero\")\n"
      ],
      "metadata": {
        "colab": {
          "base_uri": "https://localhost:8080/"
        },
        "id": "PkvbAKH9J7FX",
        "outputId": "b1e4a863-a6f7-49e8-e4ae-2057e8e4f964"
      },
      "execution_count": null,
      "outputs": [
        {
          "output_type": "stream",
          "name": "stdout",
          "text": [
            "divison by zero\n"
          ]
        }
      ]
    },
    {
      "cell_type": "code",
      "source": [
        "#6 Write a Python program that logs an error message to a log file when a division by zero exception occurs\n",
        "import logging\n",
        "logging.basicConfig(filename=\"error.log\",level=logging.error,format=\"%(asctime)s-%(levelname)s-%(message)s\")\n",
        "try:\n",
        "  n=10/0\n",
        "except ZeroDivisionError:\n",
        "  logging.error(\"divison by zero\")"
      ],
      "metadata": {
        "colab": {
          "base_uri": "https://localhost:8080/"
        },
        "id": "mRhr9UUYKL7B",
        "outputId": "ffa512cb-5624-47c3-878f-964bb6e47eab"
      },
      "execution_count": null,
      "outputs": [
        {
          "output_type": "stream",
          "name": "stderr",
          "text": [
            "ERROR:root:divison by zero\n"
          ]
        }
      ]
    },
    {
      "cell_type": "code",
      "source": [
        "#7 How do you log information at different levels (INFO, ERROR, WARNING) in Python using the logging module\n",
        "import logging\n",
        "logging.basicConfig(level=logging.DEBUG,format=\"%(asctime)s-%(levelname)s-%(message)s\")\n",
        "logging.debug(\"This is a debug message.\")\n",
        "logging.info(\"This is an info message.\")\n",
        "logging.warning(\"This is a warning message.\")\n",
        "logging.error(\"This is an error message.\")\n",
        "logging.critical(\"This is a critical message.\")"
      ],
      "metadata": {
        "colab": {
          "base_uri": "https://localhost:8080/"
        },
        "id": "Io9OkMyELN6u",
        "outputId": "a1dc5b79-b590-4f98-9641-bb6cc2eb4ebc"
      },
      "execution_count": null,
      "outputs": [
        {
          "output_type": "stream",
          "name": "stderr",
          "text": [
            "WARNING:root:This is a warning message.\n",
            "ERROR:root:This is an error message.\n",
            "CRITICAL:root:This is a critical message.\n"
          ]
        }
      ]
    },
    {
      "cell_type": "code",
      "source": [
        "#8 Write a program to handle a file opening error using exception handling\n",
        "try:\n",
        "  with open(\"vansh.txt\",\"r\") as file:\n",
        "    content=file.read()\n",
        "    print(content)\n",
        "except FileNotFoundError:\n",
        "  print(\"File not found\")\n",
        "except PermissionError:\n",
        "  print(\"Permission denied to open a file\")"
      ],
      "metadata": {
        "colab": {
          "base_uri": "https://localhost:8080/"
        },
        "id": "YcJivwi6L35r",
        "outputId": "8f7b5749-2ba9-496c-db9b-cf471b104848"
      },
      "execution_count": null,
      "outputs": [
        {
          "output_type": "stream",
          "name": "stdout",
          "text": [
            "File not found\n"
          ]
        }
      ]
    },
    {
      "cell_type": "code",
      "source": [
        "#9  How can you read a file line by line and store its content in a list in Python\n",
        "with open(\"yash.txt\",\"r\") as file:\n",
        "  line=file.readlines()\n",
        "print(line)"
      ],
      "metadata": {
        "colab": {
          "base_uri": "https://localhost:8080/"
        },
        "id": "NIdIziDXNEfT",
        "outputId": "ceae056c-8523-4df1-ea16-b997e6e4dafe"
      },
      "execution_count": null,
      "outputs": [
        {
          "output_type": "stream",
          "name": "stdout",
          "text": [
            "['I am yash']\n"
          ]
        }
      ]
    },
    {
      "cell_type": "code",
      "source": [
        "#10  How can you append data to an existing file in Python\n",
        "with open(\"yash.txt\",\"a\") as file:\n",
        "  file.write(\"I am from Canada\")\n",
        "with open(\"yash.txt\",\"r\") as file:\n",
        "  print(file.read())"
      ],
      "metadata": {
        "colab": {
          "base_uri": "https://localhost:8080/"
        },
        "id": "ma2oVFYhNsp6",
        "outputId": "d38b2731-de15-4b40-d4fc-375ea8904cb7"
      },
      "execution_count": null,
      "outputs": [
        {
          "output_type": "stream",
          "name": "stdout",
          "text": [
            "I am yashI am from Canada\n"
          ]
        }
      ]
    },
    {
      "cell_type": "code",
      "source": [
        "#11 Write a Python program that uses a try-except block to handle an error when attempting to access a dictionary key that doesn't exist\n",
        "my_dict={\"name\":\"yash\",\"place\":\"Ontario\",\"number\":5485775019}\n",
        "try:\n",
        "  value=my_dict[\"address\"]\n",
        "except KeyError:\n",
        "  print(\"dictionary key error found\")\n"
      ],
      "metadata": {
        "colab": {
          "base_uri": "https://localhost:8080/"
        },
        "id": "I1LMqNoFOOGk",
        "outputId": "cffd5442-a121-4c69-e4ab-8664c2fe6f43"
      },
      "execution_count": null,
      "outputs": [
        {
          "output_type": "stream",
          "name": "stdout",
          "text": [
            "dictionary key error found\n"
          ]
        }
      ]
    },
    {
      "cell_type": "code",
      "source": [
        "#12 Write a program that demonstrates using multiple except blocks to handle different types of exceptions\n",
        "try:\n",
        "    num1 = int(input(\"Enter the first number: \"))\n",
        "    num2 = int(input(\"Enter the second number: \"))\n",
        "    result = num1 / num2\n",
        "    print(f\"Result: {result}\")\n",
        "\n",
        "except ZeroDivisionError:\n",
        "    print(\"Error: Cannot divide by zero.\")\n",
        "except ValueError:\n",
        "    print(\"Error: Please enter valid integers.\")\n",
        "except Exception as e:\n",
        "    print(f\"An unexpected error occurred: {e}\")"
      ],
      "metadata": {
        "colab": {
          "base_uri": "https://localhost:8080/"
        },
        "id": "_7UvZt-_PLaB",
        "outputId": "74aae783-5e62-40bf-f1b8-27c21585944e"
      },
      "execution_count": null,
      "outputs": [
        {
          "output_type": "stream",
          "name": "stdout",
          "text": [
            "Enter the first number: 2\n",
            "Enter the second number: 0\n",
            "Error: Cannot divide by zero.\n"
          ]
        }
      ]
    },
    {
      "cell_type": "code",
      "source": [
        "#13  How would you check if a file exists before attempting to read it in Python\n",
        "import os\n",
        "\n",
        "file_path = \"yash.txt\"\n",
        "\n",
        "if os.path.exists(file_path):\n",
        "    with open(file_path, \"r\") as file:\n",
        "        content = file.read()\n",
        "        print(content)\n",
        "else:\n",
        "    print(\"File does not exist.\")"
      ],
      "metadata": {
        "id": "GBrX5HrUPm6t",
        "colab": {
          "base_uri": "https://localhost:8080/"
        },
        "outputId": "9054dc62-9401-4e39-c2e7-cf39acfc2446"
      },
      "execution_count": null,
      "outputs": [
        {
          "output_type": "stream",
          "name": "stdout",
          "text": [
            "File does not exist.\n"
          ]
        }
      ]
    },
    {
      "cell_type": "code",
      "source": [
        "#14  Write a program that uses the logging module to log both informational and error messages\n",
        "import logging\n",
        "\n",
        "logging.basicConfig(\n",
        "    level=logging.DEBUG,\n",
        "    format=\"%(asctime)s - %(levelname)s - %(message)s\",\n",
        "    filename=\"app.log\",\n",
        "    filemode=\"w\"\n",
        ")\n",
        "logging.info(\"This is an informational message.\")\n",
        "\n",
        "try:\n",
        "    result = 10 / 0\n",
        "except ZeroDivisionError as e:\n",
        "\n",
        "    logging.error(\"An error occurred: %s\", e)"
      ],
      "metadata": {
        "colab": {
          "base_uri": "https://localhost:8080/"
        },
        "id": "ZewRYLOuxM5_",
        "outputId": "50fd315e-dcce-454f-e050-a20129c149fb"
      },
      "execution_count": null,
      "outputs": [
        {
          "output_type": "stream",
          "name": "stderr",
          "text": [
            "ERROR:root:An error occurred: division by zero\n"
          ]
        }
      ]
    },
    {
      "cell_type": "code",
      "source": [
        "#15 Write a Python program that prints the content of a file and handles the case when the file is empty\n",
        "from pathlib import Path\n",
        "\n",
        "file_path = Path(\"yash.txt\")\n",
        "\n",
        "if file_path.exists():\n",
        "    with file_path.open(\"r\") as file:\n",
        "        content = file.read()\n",
        "        if content:\n",
        "            print(content)\n",
        "        else:\n",
        "            print(\"The file is empty.\")\n",
        "else:\n",
        "    print(\"File does not exist.\")"
      ],
      "metadata": {
        "colab": {
          "base_uri": "https://localhost:8080/"
        },
        "id": "Enyuuz-lxhYB",
        "outputId": "b5ea1f74-9dad-4a82-f992-e47fe78dfb3d"
      },
      "execution_count": null,
      "outputs": [
        {
          "output_type": "stream",
          "name": "stdout",
          "text": [
            "File does not exist.\n"
          ]
        }
      ]
    },
    {
      "cell_type": "code",
      "source": [
        "#16  Demonstrate how to use memory profiling to check the memory usage of a small program\n",
        "from memory_profiler import profile\n",
        "\n",
        "@profile\n",
        "def memory_usage_demo():\n",
        "    large_list = [i for i in range(1000000)]\n",
        "    print(\"List created\")\n",
        "    del large_list\n",
        "    print(\"List deleted\")\n",
        "\n",
        "if __name__ == \"__main__\":\n",
        "    memory_usage_demo()"
      ],
      "metadata": {
        "id": "52HxXbhXxzXX"
      },
      "execution_count": null,
      "outputs": []
    },
    {
      "cell_type": "code",
      "source": [
        "#17 Write a Python program to create and write a list of numbers to a file, one number per line\n",
        "numbers = [1, 2, 3, 4, 5]\n",
        "\n",
        "with open(\"numbers.txt\", \"w\") as file:\n",
        "    for number in numbers:\n",
        "        file.write(f\"{number}\\n\")\n",
        "\n",
        "print(\"Numbers written to file.\")"
      ],
      "metadata": {
        "colab": {
          "base_uri": "https://localhost:8080/"
        },
        "id": "SW7FAqZKyPuj",
        "outputId": "6ec31d27-7372-40a7-dd87-b62d3b606daa"
      },
      "execution_count": null,
      "outputs": [
        {
          "output_type": "stream",
          "name": "stdout",
          "text": [
            "Numbers written to file.\n"
          ]
        }
      ]
    },
    {
      "cell_type": "code",
      "source": [
        "#18  How would you implement a basic logging setup that logs to a file with rotation after 1MB\n",
        "import logging\n",
        "from logging.handlers import RotatingFileHandler\n",
        "\n",
        "log_file = \"app.log\"\n",
        "handler = RotatingFileHandler(log_file, maxBytes=1_000_000, backupCount=3)\n",
        "logging.basicConfig(\n",
        "    level=logging.DEBUG,\n",
        "    format=\"%(asctime)s - %(levelname)s - %(message)s\",\n",
        "    handlers=[handler]\n",
        ")\n",
        "\n",
        "logging.info(\"This is an informational message.\")\n",
        "logging.debug(\"This is a debug message.\")\n",
        "logging.error(\"This is an error message.\")"
      ],
      "metadata": {
        "colab": {
          "base_uri": "https://localhost:8080/"
        },
        "id": "QmivsTJJyhd5",
        "outputId": "0f76a9ac-90d1-402a-f880-d9774530aa4b"
      },
      "execution_count": null,
      "outputs": [
        {
          "output_type": "stream",
          "name": "stderr",
          "text": [
            "ERROR:root:This is an error message.\n"
          ]
        }
      ]
    },
    {
      "cell_type": "code",
      "source": [
        "#19 Write a program that handles both IndexError and KeyError using a try-except block\n",
        "try:\n",
        "    my_list = [1, 2, 3]\n",
        "    print(my_list[5])\n",
        "\n",
        "    my_dict = {\"a\": 1, \"b\": 2}\n",
        "    print(my_dict[\"c\"])\n",
        "\n",
        "except IndexError as e:\n",
        "    print(f\"IndexError occurred: {e}\")\n",
        "\n",
        "except KeyError as e:\n",
        "    print(f\"KeyError occurred: {e}\")"
      ],
      "metadata": {
        "colab": {
          "base_uri": "https://localhost:8080/"
        },
        "id": "Jmg8APZ-yvBo",
        "outputId": "fc9da132-14d7-4166-bdce-b2bf14539c59"
      },
      "execution_count": null,
      "outputs": [
        {
          "output_type": "stream",
          "name": "stdout",
          "text": [
            "IndexError occurred: list index out of range\n"
          ]
        }
      ]
    },
    {
      "cell_type": "code",
      "source": [
        "#20 How would you open a file and read its contents using a context manager in Python\n",
        "with open(\"example.txt\", \"r\") as file:\n",
        "    content = file.read()\n",
        "    print(content)"
      ],
      "metadata": {
        "colab": {
          "base_uri": "https://localhost:8080/"
        },
        "id": "mKd40aetzChV",
        "outputId": "ddfdb013-c519-494f-d435-ebe1ab5afb51"
      },
      "execution_count": null,
      "outputs": [
        {
          "output_type": "stream",
          "name": "stdout",
          "text": [
            "I am yash\n"
          ]
        }
      ]
    },
    {
      "cell_type": "code",
      "source": [
        "#21 F Write a Python program that reads a file and prints the number of occurrences of a specific word\n",
        "def count_word_in_file(file_path, target_word):\n",
        "    with open(file_path, \"r\") as file:\n",
        "        content = file.read()\n",
        "        word_count = content.lower().split().count(target_word.lower())\n",
        "    return word_count\n",
        "\n",
        "file_path = \"example.txt\"\n",
        "target_word = \"yash\"\n",
        "\n",
        "word_count = count_word_in_file(file_path, target_word)\n",
        "print(f\"The word '{target_word}' appears {word_count} times in the file.\")"
      ],
      "metadata": {
        "colab": {
          "base_uri": "https://localhost:8080/"
        },
        "id": "YhtqIVP8zUxt",
        "outputId": "f13c8c0c-fd65-4bc5-fefb-a41db2b516b4"
      },
      "execution_count": null,
      "outputs": [
        {
          "output_type": "stream",
          "name": "stdout",
          "text": [
            "The word 'yash' appears 1 times in the file.\n"
          ]
        }
      ]
    },
    {
      "cell_type": "code",
      "source": [
        "#22 How can you check if a file is empty before attempting to read its contents\n",
        "from pathlib import Path\n",
        "\n",
        "file_path = Path(\"example.txt\")\n",
        "\n",
        "if file_path.exists() and file_path.stat().st_size > 0:\n",
        "    with file_path.open(\"r\") as file:\n",
        "        content = file.read()\n",
        "        print(content)\n",
        "else:\n",
        "    print(\"The file is empty or does not exist.\")"
      ],
      "metadata": {
        "colab": {
          "base_uri": "https://localhost:8080/"
        },
        "id": "Ni3zgGCGzgtt",
        "outputId": "9ad587cc-d20b-45b3-868f-c5e19cd3d2e5"
      },
      "execution_count": null,
      "outputs": [
        {
          "output_type": "stream",
          "name": "stdout",
          "text": [
            "I am yash\n"
          ]
        }
      ]
    },
    {
      "cell_type": "code",
      "source": [
        "#23 F Write a Python program that writes to a log file when an error occurs during file handling\n",
        "import logging\n",
        "logging.basicConfig(\n",
        "    level=logging.ERROR,\n",
        "    format=\"%(asctime)s - %(levelname)s - %(message)s\",\n",
        "    filename=\"error_log.txt\",\n",
        "    filemode=\"a\"\n",
        ")\n",
        "\n",
        "def file_handling():\n",
        "    try:\n",
        "        with open(\"non_existent_file.txt\", \"r\") as file:\n",
        "            content = file.read()\n",
        "            print(content)\n",
        "    except Exception as e:\n",
        "        logging.error(f\"An error occurred: {e}\")\n",
        "\n",
        "if __name__ == \"__main__\":\n",
        "    file_handling()"
      ],
      "metadata": {
        "colab": {
          "base_uri": "https://localhost:8080/"
        },
        "id": "xczcXR_Vzz86",
        "outputId": "5c5b354c-85d5-4ec1-adb7-69ab2a82be4e"
      },
      "execution_count": null,
      "outputs": [
        {
          "output_type": "stream",
          "name": "stderr",
          "text": [
            "ERROR:root:An error occurred: [Errno 2] No such file or directory: 'non_existent_file.txt'\n"
          ]
        }
      ]
    }
  ]
}