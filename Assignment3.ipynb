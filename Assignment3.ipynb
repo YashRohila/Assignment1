{
  "nbformat": 4,
  "nbformat_minor": 0,
  "metadata": {
    "colab": {
      "provenance": [],
      "toc_visible": true
    },
    "kernelspec": {
      "name": "python3",
      "display_name": "Python 3"
    },
    "language_info": {
      "name": "python"
    }
  },
  "cells": [
    {
      "cell_type": "markdown",
      "source": [
        "1. What is the difference between a function and a method in Python?\n",
        "- A function is defined in global scope and in nested functions whereas method is called under class.\n",
        "- Function is independant in nature but a method is bounded with class and object"
      ],
      "metadata": {
        "id": "z5pEgKqEPdV9"
      }
    },
    {
      "cell_type": "code",
      "source": [
        "# Example of function\n",
        "def func():\n",
        "  print(\"2\")\n",
        "\n",
        "func()\n",
        "\n"
      ],
      "metadata": {
        "colab": {
          "base_uri": "https://localhost:8080/"
        },
        "id": "hc4MnlKCUEoP",
        "outputId": "1a06b9d2-cf06-4f5b-e8aa-d6c10cd71f67"
      },
      "execution_count": null,
      "outputs": [
        {
          "output_type": "stream",
          "name": "stdout",
          "text": [
            "2\n"
          ]
        }
      ]
    },
    {
      "cell_type": "code",
      "source": [
        "#Example of a method\n",
        "class calculator:\n",
        "  def add(self,a,b):\n",
        "    return a+b\n",
        "\n",
        "cal=calculator()\n",
        "result=cal.add(3,5)\n",
        "print(result)"
      ],
      "metadata": {
        "colab": {
          "base_uri": "https://localhost:8080/"
        },
        "id": "5fsv2YR3UgpP",
        "outputId": "dab929ad-0283-42cf-c6c0-8a5bf9f87da8"
      },
      "execution_count": null,
      "outputs": [
        {
          "output_type": "stream",
          "name": "stdout",
          "text": [
            "8\n"
          ]
        }
      ]
    },
    {
      "cell_type": "markdown",
      "source": [
        "2. Explain the concept of function arguments and parameters in Python.\n",
        "- **Parameters:-** These are the variables which are defined in header that recieves value when the fnction is called\n",
        "- **Arguments:**- These are the actual values or data passed to a function when it is called\n"
      ],
      "metadata": {
        "id": "zg5N-tKDVVtA"
      }
    },
    {
      "cell_type": "code",
      "source": [
        "# Parameters\n",
        "def greet(name):\n",
        "  return f'hello,{name}'\n",
        "\n",
        "greet(\"vansh\")"
      ],
      "metadata": {
        "colab": {
          "base_uri": "https://localhost:8080/",
          "height": 35
        },
        "id": "0vBfYOCIXqMp",
        "outputId": "4fb3d6e9-f498-490a-cc94-dabc79804bc2"
      },
      "execution_count": null,
      "outputs": [
        {
          "output_type": "execute_result",
          "data": {
            "text/plain": [
              "'hello,vansh'"
            ],
            "application/vnd.google.colaboratory.intrinsic+json": {
              "type": "string"
            }
          },
          "metadata": {},
          "execution_count": 8
        }
      ]
    },
    {
      "cell_type": "code",
      "source": [
        "#Arguments\n",
        "print(greet(\"yash\"))"
      ],
      "metadata": {
        "colab": {
          "base_uri": "https://localhost:8080/"
        },
        "id": "02bK1Ym1Xy9G",
        "outputId": "8120583d-ffbd-4154-8149-48a776bc8fbb"
      },
      "execution_count": null,
      "outputs": [
        {
          "output_type": "stream",
          "name": "stdout",
          "text": [
            "hello,yash\n"
          ]
        }
      ]
    },
    {
      "cell_type": "markdown",
      "source": [
        "3. What are the different ways to define and call a function in Python?\n",
        "- In python functions can defined and called in sveral ways depending on their purpose:\n",
        "- **def :->** def function_name(): return value\n",
        "- **lambda function:->** add=lambda x,y=x+y print(add(3,5))\n",
        "- **map:->** numbers=[1,2,3,4] squared=map(lambda(x:x**2,numbers)) print(list(squared)\n",
        "- **filter:->** numbers=[1,2,3,4,5,6] even_no=filter(lambda x:x%2==0,numbers) print(list(even_no))\n",
        "- **reduce:->** numbers=[1,2,3,4,5,6] product=reduce(lambda x,y: x*y,numbers) print(product(\n",
        "- **nested:->** def out_func(x): def inner_func(y): return x+y return inner_Func(5) print(out_func(10))\n",
        "- **recursive:->** def factorial(n): if n==1: return 1 return n*factorial(n-1) print(factorial(n-1)) print(factirial(5))\n",
        "- **function with default parameters:->**def z(name=\"yash\"): return f\"hello,{name}!\" print(z()) print(z(\"vansh\"))\n",
        "- **local and global:->**\n",
        "\n",
        "\n",
        "\n",
        "4. What is the purpose of the `return` statement in a Python function?\n",
        "The purpose of return statement is to\n",
        "- To pass a result back to the caller.\n",
        "- To terminate function\n",
        "- To allow flexibility in designing reusable and composable functions\n",
        "- example:-> def add(a,b): return a+b\n",
        "\n",
        "5. What are iterators in Python and how do they differ from iterables?\n",
        "- Iterable is an object which returns an iterator whereas Iterator is an object that provides next item in sequence\n",
        "- Object example are list,tuples,strings and dictionaries for iterable and Iterator is an object which is created by iter() function\n"
      ],
      "metadata": {
        "id": "2YCb19_4YmHP"
      }
    },
    {
      "cell_type": "code",
      "source": [
        "#Example\n",
        "#Iterable\n",
        "my_list=[1,2,3,4]\n",
        "for item in my_list:\n",
        "  print(item)"
      ],
      "metadata": {
        "colab": {
          "base_uri": "https://localhost:8080/"
        },
        "id": "cAVfiFcenPEO",
        "outputId": "65318450-2d88-47c7-aae8-fcc9a027c8d8"
      },
      "execution_count": 1,
      "outputs": [
        {
          "output_type": "stream",
          "name": "stdout",
          "text": [
            "1\n",
            "2\n",
            "3\n",
            "4\n"
          ]
        }
      ]
    },
    {
      "cell_type": "code",
      "source": [
        "#Iterators\n",
        "my_list=[1,2,3]\n",
        "iterator=iter(my_list)\n",
        "print(next(iterator))\n",
        "print(next(iterator))"
      ],
      "metadata": {
        "colab": {
          "base_uri": "https://localhost:8080/"
        },
        "id": "tP2PfNrtnep_",
        "outputId": "b20b674c-7b33-43af-9d5d-1a8358bce797"
      },
      "execution_count": 3,
      "outputs": [
        {
          "output_type": "stream",
          "name": "stdout",
          "text": [
            "1\n",
            "2\n"
          ]
        }
      ]
    },
    {
      "cell_type": "markdown",
      "source": [
        "6. Explain the concept of generators in Python and how they are defined.\n",
        "- Generators in Python are special type of iterator that allows you to generate value by which they produce items one at a time and only when required instead of storing the entire sequence in memory.\n",
        "- def generator_func(): yield value\n",
        "\n",
        "7. What are the advantages of using generators over regular functions?\n",
        "- Generators provides many advantages over regular functions specially when dealing with large data, it improves performance ,handles infinite sequences, enhance readability and maintainbility\n",
        "\n",
        "8. What is a lambda function in Python and when is it typically used?\n",
        "- Lambda function are single expression function which do not require a name. Lambda functions are used for short,simple function that do not need a name.\n",
        "\n",
        "- Example:-> square=lambda x:x**2 print(square(4))\n",
        "\n",
        "9. Explain the purpose and usage of the `map()` function in Python.\n",
        "- A map is a inbuilt function that applies a specific function to every item in an iterable and returns new iterable of result\n",
        "\n"
      ],
      "metadata": {
        "id": "pYf_Nbtyn04c"
      }
    },
    {
      "cell_type": "code",
      "source": [
        "#map\n",
        "numbers=[1,2,3,4,5]\n",
        "squared=map(lambda x:x**2,numbers)\n",
        "print(list(squared))"
      ],
      "metadata": {
        "colab": {
          "base_uri": "https://localhost:8080/"
        },
        "id": "0ydWS9igsVOS",
        "outputId": "cd8d6129-cd3b-4d13-a023-f248a422050b"
      },
      "execution_count": 4,
      "outputs": [
        {
          "output_type": "stream",
          "name": "stdout",
          "text": [
            "[1, 4, 9, 16, 25]\n"
          ]
        }
      ]
    },
    {
      "cell_type": "markdown",
      "source": [
        "10. What is the difference between `map()`, `reduce()`, and `filter()` functions in Python?\n",
        "-The main difference between map , reduce and filter is that when we want to tranform data we use map, when we want to select specific items based on condition we use filter, when we want to aggregrate data into single value we use reduce"
      ],
      "metadata": {
        "id": "g0KSPP6TtoD4"
      }
    },
    {
      "cell_type": "code",
      "source": [],
      "metadata": {
        "id": "Svg-fqgX5Cpo"
      },
      "execution_count": null,
      "outputs": []
    },
    {
      "cell_type": "code",
      "source": [
        "from functools import reduce\n",
        "numbers=[1,2,3,4,5]\n",
        "evens=filter(lambda x:x%2==0,numbers)\n",
        "squared=map(lambda x:x**2,evens)\n",
        "result=reduce(lambda x,y:x+y,squared)\n",
        "print(result)\n",
        "print(evens)\n",
        "print(squared)"
      ],
      "metadata": {
        "colab": {
          "base_uri": "https://localhost:8080/"
        },
        "id": "xO6wKwL8uexs",
        "outputId": "79a1c006-10eb-410f-d85c-ee55b2c4b634"
      },
      "execution_count": 7,
      "outputs": [
        {
          "output_type": "stream",
          "name": "stdout",
          "text": [
            "20\n",
            "<filter object at 0x7e324d344c70>\n",
            "<map object at 0x7e324d345cc0>\n"
          ]
        }
      ]
    },
    {
      "cell_type": "markdown",
      "source": [],
      "metadata": {
        "id": "T5AmtSut45Vd"
      }
    },
    {
      "cell_type": "code",
      "source": [
        "#1. Write a Python function that takes a list of numbers as input and returns the sum of all even numbers in the list\n",
        "def sum_of_evens(numbers):\n",
        "    even_numbers = filter(lambda x: x % 2 == 0, numbers)\n",
        "    return sum(even_numbers)\n",
        "\n",
        "numbers_list = [1, 2, 3, 4, 5, 6]\n",
        "result = sum_of_evens(numbers_list)\n",
        "print(\"Sum of even numbers:\", result)"
      ],
      "metadata": {
        "colab": {
          "base_uri": "https://localhost:8080/"
        },
        "id": "U3NERoZHvl9g",
        "outputId": "24ebb957-8d2a-47a5-910d-34fabffa3b6a"
      },
      "execution_count": 2,
      "outputs": [
        {
          "output_type": "stream",
          "name": "stdout",
          "text": [
            "Sum of even numbers: 12\n"
          ]
        }
      ]
    },
    {
      "cell_type": "code",
      "source": [
        "# 2. Create a Python function that accepts a string and returns the reverse of that string.\n",
        "def reverse_string(s):\n",
        "    return s[::-1]\n",
        "\n",
        "input_string = \"Hello, World!\"\n",
        "result = reverse_string(input_string)\n",
        "print(\"Reversed string:\", result)"
      ],
      "metadata": {
        "colab": {
          "base_uri": "https://localhost:8080/"
        },
        "id": "0QcciwbKxdsa",
        "outputId": "e652fe4b-bd3c-47e0-cee5-409bcb879777"
      },
      "execution_count": 3,
      "outputs": [
        {
          "output_type": "stream",
          "name": "stdout",
          "text": [
            "Reversed string: !dlroW ,olleH\n"
          ]
        }
      ]
    },
    {
      "cell_type": "code",
      "source": [
        "# 3. Implement a Python function that takes a list of integers and returns a new list containing the squares of each number.\n",
        "def square_numbers(numbers):\n",
        "    return list(map(lambda x: x**2, numbers))\n",
        "\n",
        "numbers_list = [1, 2, 3, 4, 5]\n",
        "result = square_numbers(numbers_list)\n",
        "print(\"Squared numbers:\", result)"
      ],
      "metadata": {
        "colab": {
          "base_uri": "https://localhost:8080/"
        },
        "id": "3WN_W5PtxrP4",
        "outputId": "9e72e2d0-e40f-4093-9ac9-a57d409e7260"
      },
      "execution_count": 4,
      "outputs": [
        {
          "output_type": "stream",
          "name": "stdout",
          "text": [
            "Squared numbers: [1, 4, 9, 16, 25]\n"
          ]
        }
      ]
    },
    {
      "cell_type": "code",
      "source": [
        "# 4. Write a Python function that checks if a given number is prime or not from 1 to 200.\n",
        "def is_prime(number):\n",
        "    if number < 2:\n",
        "        return False\n",
        "    return all(number % i != 0 for i in range(2, int(number**0.5) + 1))\n",
        "\n",
        "def get_primes_in_range(start, end):\n",
        "    return list(filter(is_prime, range(start, end + 1)))\n",
        "\n",
        "primes = get_primes_in_range(1, 200)\n",
        "print(\"Prime numbers from 1 to 200:\", primes)"
      ],
      "metadata": {
        "colab": {
          "base_uri": "https://localhost:8080/"
        },
        "id": "UAE3GaOoyHf9",
        "outputId": "175c9815-0a84-4984-f88b-0f388ea84f2c"
      },
      "execution_count": 5,
      "outputs": [
        {
          "output_type": "stream",
          "name": "stdout",
          "text": [
            "Prime numbers from 1 to 200: [2, 3, 5, 7, 11, 13, 17, 19, 23, 29, 31, 37, 41, 43, 47, 53, 59, 61, 67, 71, 73, 79, 83, 89, 97, 101, 103, 107, 109, 113, 127, 131, 137, 139, 149, 151, 157, 163, 167, 173, 179, 181, 191, 193, 197, 199]\n"
          ]
        }
      ]
    },
    {
      "cell_type": "code",
      "source": [
        "#5. Create an iterator class in Python that generates the Fibonacci sequence up to a specified number of terms.\n",
        "def fibonacci_iterator(terms):\n",
        "    a, b = 0, 1\n",
        "    for _ in range(terms):\n",
        "        yield a\n",
        "        a, b = b, a + b\n",
        "\n",
        "for num in fibonacci_iterator(10):\n",
        "    print(num)"
      ],
      "metadata": {
        "colab": {
          "base_uri": "https://localhost:8080/"
        },
        "id": "nWZZ3HvNyqZr",
        "outputId": "3b346d82-8ff4-4383-ab7d-d001329edc1b"
      },
      "execution_count": 6,
      "outputs": [
        {
          "output_type": "stream",
          "name": "stdout",
          "text": [
            "0\n",
            "1\n",
            "1\n",
            "2\n",
            "3\n",
            "5\n",
            "8\n",
            "13\n",
            "21\n",
            "34\n"
          ]
        }
      ]
    },
    {
      "cell_type": "code",
      "source": [
        "# 6. Write a generator function in Python that yields the powers of 2 up to a given exponent.\n",
        "def powers_of_two(exponent):\n",
        "    for i in range(exponent + 1):\n",
        "        yield 2 ** i\n",
        "\n",
        "for power in powers_of_two(5):\n",
        "    print(power)"
      ],
      "metadata": {
        "colab": {
          "base_uri": "https://localhost:8080/"
        },
        "id": "RAJ0trGVzEkb",
        "outputId": "e2fb9b5c-8634-4914-a161-732de529f523"
      },
      "execution_count": 7,
      "outputs": [
        {
          "output_type": "stream",
          "name": "stdout",
          "text": [
            "1\n",
            "2\n",
            "4\n",
            "8\n",
            "16\n",
            "32\n"
          ]
        }
      ]
    },
    {
      "cell_type": "code",
      "source": [
        "# 8. Use a lambda function in Python to sort a list of tuples based on the second element of each tuple.\n",
        "tuples_list = [(1, 3), (4, 1), (2, 2), (5, 0)]\n",
        "\n",
        "\n",
        "sorted_list = sorted(tuples_list, key=lambda x: x[1])\n",
        "\n",
        "\n",
        "print(sorted_list)"
      ],
      "metadata": {
        "colab": {
          "base_uri": "https://localhost:8080/"
        },
        "id": "JW2-Kg-f0kyx",
        "outputId": "764de20f-8071-4494-e172-a7ffc9a2f6fb"
      },
      "execution_count": 14,
      "outputs": [
        {
          "output_type": "stream",
          "name": "stdout",
          "text": [
            "[(5, 0), (4, 1), (2, 2), (1, 3)]\n"
          ]
        }
      ]
    },
    {
      "cell_type": "code",
      "source": [
        "#9. Write a Python program that uses `map()` to convert a list of temperatures from Celsius to Fahrenheit.\n",
        "celsius_temps = [0, 25, 30, 35, 40]\n",
        "\n",
        "def celsius_to_fahrenheit(celsius):\n",
        "    return (celsius * 9/5) + 32\n",
        "\n",
        "\n",
        "fahrenheit_temps = list(map(celsius_to_fahrenheit, celsius_temps))\n",
        "\n",
        "\n",
        "print(fahrenheit_temps)"
      ],
      "metadata": {
        "colab": {
          "base_uri": "https://localhost:8080/"
        },
        "id": "Z9Mt2KSE0zDX",
        "outputId": "154b8555-f5d2-4e88-cfe0-ba8d90b0fd63"
      },
      "execution_count": 15,
      "outputs": [
        {
          "output_type": "stream",
          "name": "stdout",
          "text": [
            "[32.0, 77.0, 86.0, 95.0, 104.0]\n"
          ]
        }
      ]
    },
    {
      "cell_type": "code",
      "source": [
        "# 10. Create a Python program that uses `filter()` to remove all the vowels from a given string.\n",
        "input_string = \"Hello, how are you?\"\n",
        "\n",
        "\n",
        "def is_not_vowel(char):\n",
        "    return char.lower() not in 'aeiou'\n",
        "\n",
        "\n",
        "filtered_string = ''.join(filter(is_not_vowel, input_string))\n",
        "\n",
        "\n",
        "print(filtered_string)"
      ],
      "metadata": {
        "colab": {
          "base_uri": "https://localhost:8080/"
        },
        "id": "mBhOrOt_1FPE",
        "outputId": "fecbc7f8-91e4-4912-e24b-732dfaf63b82"
      },
      "execution_count": 16,
      "outputs": [
        {
          "output_type": "stream",
          "name": "stdout",
          "text": [
            "Hll, hw r y?\n"
          ]
        }
      ]
    },
    {
      "cell_type": "code",
      "source": [
        "# QUESTION 11\n",
        "orders = [\n",
        "    [34587, \"Learning Python, Mark Lutz\", 1, 40.95],\n",
        "    [98762, \"Programming Python, Mark Lutz\", 2, 56.80],\n",
        "    [77226, \"Head First Python, Paul Barry\", 3, 32.95],\n",
        "    [88112, \"Einführung in Python3, Bernd Klein\", 4, 24.99]\n",
        "]\n",
        "\n",
        "\n",
        "result = list(map(lambda order: (\n",
        "    order[0],\n",
        "    (order[2] * order[3] + 10) if order[2] * order[3] < 100 else order[2] * order[3]\n",
        "), orders))\n",
        "\n",
        "print(result)"
      ],
      "metadata": {
        "colab": {
          "base_uri": "https://localhost:8080/"
        },
        "id": "a5QafPEP2qnC",
        "outputId": "60cad1b3-d4d5-4ff4-b26f-d4f195ec8d7f"
      },
      "execution_count": 19,
      "outputs": [
        {
          "output_type": "stream",
          "name": "stdout",
          "text": [
            "[(34587, 50.95), (98762, 113.6), (77226, 108.85000000000001), (88112, 109.96)]\n"
          ]
        }
      ]
    }
  ]
}